{
 "cells": [
  {
   "cell_type": "code",
   "execution_count": 34,
   "metadata": {},
   "outputs": [],
   "source": [
    "import numpy as np \n",
    "import tensorflow as tf"
   ]
  },
  {
   "cell_type": "markdown",
   "metadata": {},
   "source": [
    "Data"
   ]
  },
  {
   "cell_type": "code",
   "execution_count": 69,
   "metadata": {},
   "outputs": [],
   "source": [
    "npz = np.load('Audiobooks_data_train.npz')\n",
    "train_inputs = npz['inputs'].astype(np.float64)\n",
    "train_targets = npz['targets'].astype(np.int64)\n",
    "\n",
    "npz = np.load('Audiobooks_data_validation.npz')\n",
    "validation_inputs = npz['inputs'].astype(np.float64)\n",
    "validation_targets = npz['targets'].astype(np.int64)\n",
    "\n",
    "npz = np.load('Audiobooks_data_test.npz')\n",
    "test_inputs = npz['inputs'].astype(np.float64)\n",
    "test_targets = npz['targets'].astype(np.int64) \n"
   ]
  },
  {
   "cell_type": "markdown",
   "metadata": {},
   "source": [
    "Model"
   ]
  },
  {
   "cell_type": "code",
   "execution_count": 71,
   "metadata": {},
   "outputs": [
    {
     "name": "stdout",
     "output_type": "stream",
     "text": [
      "Epoch 1/100\n",
      "36/36 - 1s - loss: 0.5982 - accuracy: 0.6745 - val_loss: 0.5137 - val_accuracy: 0.7562 - 565ms/epoch - 16ms/step\n",
      "Epoch 2/100\n",
      "36/36 - 0s - loss: 0.4667 - accuracy: 0.7737 - val_loss: 0.4337 - val_accuracy: 0.7987 - 61ms/epoch - 2ms/step\n",
      "Epoch 3/100\n",
      "36/36 - 0s - loss: 0.4119 - accuracy: 0.7874 - val_loss: 0.3989 - val_accuracy: 0.7763 - 59ms/epoch - 2ms/step\n",
      "Epoch 4/100\n",
      "36/36 - 0s - loss: 0.3862 - accuracy: 0.7991 - val_loss: 0.3800 - val_accuracy: 0.8031 - 62ms/epoch - 2ms/step\n",
      "Epoch 5/100\n",
      "36/36 - 0s - loss: 0.3697 - accuracy: 0.8072 - val_loss: 0.3733 - val_accuracy: 0.8054 - 61ms/epoch - 2ms/step\n",
      "Epoch 6/100\n",
      "36/36 - 0s - loss: 0.3604 - accuracy: 0.8055 - val_loss: 0.3630 - val_accuracy: 0.8054 - 63ms/epoch - 2ms/step\n",
      "Epoch 7/100\n",
      "36/36 - 0s - loss: 0.3529 - accuracy: 0.8131 - val_loss: 0.3593 - val_accuracy: 0.8166 - 62ms/epoch - 2ms/step\n",
      "Epoch 8/100\n",
      "36/36 - 0s - loss: 0.3513 - accuracy: 0.8069 - val_loss: 0.3538 - val_accuracy: 0.8188 - 60ms/epoch - 2ms/step\n",
      "Epoch 9/100\n",
      "36/36 - 0s - loss: 0.3494 - accuracy: 0.8036 - val_loss: 0.3530 - val_accuracy: 0.8210 - 62ms/epoch - 2ms/step\n",
      "Epoch 10/100\n",
      "36/36 - 0s - loss: 0.3448 - accuracy: 0.8134 - val_loss: 0.3480 - val_accuracy: 0.8143 - 61ms/epoch - 2ms/step\n",
      "Epoch 11/100\n",
      "36/36 - 0s - loss: 0.3401 - accuracy: 0.8111 - val_loss: 0.3402 - val_accuracy: 0.8143 - 61ms/epoch - 2ms/step\n",
      "Epoch 12/100\n",
      "36/36 - 0s - loss: 0.3354 - accuracy: 0.8167 - val_loss: 0.3383 - val_accuracy: 0.8233 - 60ms/epoch - 2ms/step\n",
      "Epoch 13/100\n",
      "36/36 - 0s - loss: 0.3335 - accuracy: 0.8195 - val_loss: 0.3324 - val_accuracy: 0.8277 - 63ms/epoch - 2ms/step\n",
      "Epoch 14/100\n",
      "36/36 - 0s - loss: 0.3340 - accuracy: 0.8131 - val_loss: 0.3373 - val_accuracy: 0.8098 - 61ms/epoch - 2ms/step\n",
      "Epoch 15/100\n",
      "36/36 - 0s - loss: 0.3333 - accuracy: 0.8108 - val_loss: 0.3274 - val_accuracy: 0.8277 - 63ms/epoch - 2ms/step\n",
      "Epoch 16/100\n",
      "36/36 - 0s - loss: 0.3294 - accuracy: 0.8173 - val_loss: 0.3289 - val_accuracy: 0.8367 - 59ms/epoch - 2ms/step\n",
      "Epoch 17/100\n",
      "36/36 - 0s - loss: 0.3274 - accuracy: 0.8248 - val_loss: 0.3294 - val_accuracy: 0.8210 - 59ms/epoch - 2ms/step\n"
     ]
    },
    {
     "data": {
      "text/plain": [
       "<keras.callbacks.History at 0x20f5e3a2ee0>"
      ]
     },
     "execution_count": 71,
     "metadata": {},
     "output_type": "execute_result"
    }
   ],
   "source": [
    "input_size = 10\n",
    "output_size = 2\n",
    "hidden_layer_size = 50 \n",
    "\n",
    "model = tf.keras.Sequential([\n",
    "                            tf.keras.layers.Dense(hidden_layer_size, activation=\"relu\"),\n",
    "                            tf.keras.layers.Dense(hidden_layer_size, activation=\"relu\"),\n",
    "                            tf.keras.layers.Dense(output_size, activation=\"softmax\")\n",
    "])  \n",
    "\n",
    "model.compile(optimizer='adam',loss=\"sparse_categorical_crossentropy\",metrics=[\"accuracy\"])\n",
    "batch_size = 100\n",
    "max_epochs = 100\n",
    "early_stopping = tf.keras.callbacks.EarlyStopping(patience=2)\n",
    "\n",
    "model.fit(train_inputs,\n",
    "        train_targets,\n",
    "        batch_size=batch_size,\n",
    "        epochs=max_epochs,\n",
    "        verbose=2,\n",
    "        callbacks = [early_stopping],\n",
    "        validation_data = (validation_inputs, validation_targets),\n",
    "       )       "
   ]
  },
  {
   "cell_type": "markdown",
   "metadata": {},
   "source": [
    "Test the Model"
   ]
  },
  {
   "cell_type": "code",
   "execution_count": 72,
   "metadata": {},
   "outputs": [
    {
     "name": "stdout",
     "output_type": "stream",
     "text": [
      "14/14 [==============================] - 0s 2ms/step - loss: 0.3087 - accuracy: 0.8326\n"
     ]
    }
   ],
   "source": [
    "test_loss , test_accuracy = model.evaluate(test_inputs, test_targets)"
   ]
  },
  {
   "cell_type": "code",
   "execution_count": null,
   "metadata": {},
   "outputs": [],
   "source": []
  }
 ],
 "metadata": {
  "kernelspec": {
   "display_name": "Python 3.9.13 ('tensorflow')",
   "language": "python",
   "name": "python3"
  },
  "language_info": {
   "codemirror_mode": {
    "name": "ipython",
    "version": 3
   },
   "file_extension": ".py",
   "mimetype": "text/x-python",
   "name": "python",
   "nbconvert_exporter": "python",
   "pygments_lexer": "ipython3",
   "version": "3.9.13"
  },
  "orig_nbformat": 4,
  "vscode": {
   "interpreter": {
    "hash": "a30f32a0ce04e3d0a7fe2841e9203a5b565ab633e8990a556a415bddbab648cd"
   }
  }
 },
 "nbformat": 4,
 "nbformat_minor": 2
}
