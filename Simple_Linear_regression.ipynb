{
 "cells": [
  {
   "cell_type": "code",
   "execution_count": 154,
   "metadata": {},
   "outputs": [],
   "source": [
    "import numpy as np\n",
    "import matplotlib.pyplot as plt\n",
    "from mpl_toolkits.mplot3d import Axes3D  \n"
   ]
  },
  {
   "cell_type": "code",
   "execution_count": 180,
   "metadata": {},
   "outputs": [
    {
     "name": "stdout",
     "output_type": "stream",
     "text": [
      "(1000, 1)\n",
      "(1000, 1)\n",
      "(1000, 2)\n"
     ]
    }
   ],
   "source": [
    "observations = 1000\n",
    "xs = np.random.uniform(-10,10,size=(observations,1))\n",
    "print(xs.shape)\n",
    "zs = np.random.uniform(-10,10,(observations,1))\n",
    "print(zs.shape)\n",
    "inputs = np.column_stack((xs,zs))\n",
    "\n",
    "print(inputs.shape)"
   ]
  },
  {
   "cell_type": "code",
   "execution_count": 181,
   "metadata": {},
   "outputs": [
    {
     "name": "stdout",
     "output_type": "stream",
     "text": [
      "(1000, 1)\n",
      "(1000, 1)\n"
     ]
    }
   ],
   "source": [
    "noise = np.random.uniform(-1,1,(observations,1))\n",
    "print(noise.shape)\n",
    "targets = 2*xs + 3*zs + 5 + noise\n",
    "\n",
    "print(targets.shape)"
   ]
  },
  {
   "cell_type": "code",
   "execution_count": 182,
   "metadata": {},
   "outputs": [],
   "source": [
    "# fig = plt.figure()\n",
    "# ax = fig.add_subplot(projection='3d')\n",
    "# ax.plot(xs,zs,targets)\n",
    "# ax.set_xlabel('xs')\n",
    "# ax.set_ylabel('zs')\n",
    "# ax.set_zlabel('Targets')\n",
    "# ax.view_init(azim=100)\n",
    "# plt.show()\n",
    "\n",
    "#Thorws Errors....."
   ]
  },
  {
   "cell_type": "code",
   "execution_count": 183,
   "metadata": {},
   "outputs": [
    {
     "name": "stdout",
     "output_type": "stream",
     "text": [
      "[[0.02672395]\n",
      " [0.08944938]]\n",
      "[-0.00390221]\n"
     ]
    }
   ],
   "source": [
    "init_range = 0.1\n",
    "\n",
    "weights = np.random.uniform(-init_range,init_range,size=(2,1))\n",
    "bias = np.random.uniform(-init_range,init_range,size=1)\n",
    "\n",
    "print(weights)\n",
    "print(bias)"
   ]
  },
  {
   "cell_type": "code",
   "execution_count": 238,
   "metadata": {},
   "outputs": [],
   "source": [
    "learning_rate = 0.001"
   ]
  },
  {
   "cell_type": "code",
   "execution_count": 239,
   "metadata": {},
   "outputs": [
    {
     "name": "stdout",
     "output_type": "stream",
     "text": [
      "7.804667247779007\n",
      "7.789403848655919\n",
      "7.774171066293688\n",
      "7.7589688324089074\n",
      "7.743797079290593\n",
      "7.728655739772242\n",
      "7.713544747205658\n",
      "7.698464035436304\n",
      "7.683413538780214\n",
      "7.66839319200226\n",
      "7.653402930295768\n",
      "7.6384426892633694\n",
      "7.623512404898995\n",
      "7.608612013570965\n",
      "7.593741452006133\n",
      "7.578900657274941\n",
      "7.564089566777419\n",
      "7.549308118229999\n",
      "7.534556249653159\n",
      "7.519833899359761\n",
      "7.50514100594415\n",
      "7.490477508271865\n",
      "7.4758433454699835\n",
      "7.461238456918036\n",
      "7.446662782239488\n",
      "7.4321162612937\n",
      "7.4175988341683805\n",
      "7.403110441172508\n",
      "7.388651022829627\n",
      "7.374220519871595\n",
      "7.35981887323266\n",
      "7.345446024043901\n",
      "7.3311019136280136\n",
      "7.316786483494366\n",
      "7.302499675334375\n",
      "7.288241431017141\n",
      "7.274011692585338\n",
      "7.259810402251336\n",
      "7.245637502393569\n",
      "7.23149293555308\n",
      "7.2173766444302885\n",
      "7.203288571881954\n",
      "7.189228660918267\n",
      "7.17519685470015\n",
      "7.161193096536693\n",
      "7.147217329882733\n",
      "7.133269498336566\n",
      "7.119349545637798\n",
      "7.1054574156653\n",
      "7.091593052435285\n",
      "7.077756400099486\n",
      "7.063947402943437\n",
      "7.05016600538484\n",
      "7.036412151972016\n",
      "7.022685787382451\n",
      "7.008986856421419\n",
      "6.995315304020655\n",
      "6.981671075237105\n",
      "6.968054115251772\n",
      "6.9544643693685595\n",
      "6.940901783013234\n",
      "6.927366301732383\n",
      "6.91385787119248\n",
      "6.900376437178945\n",
      "6.886921945595279\n",
      "6.873494342462217\n",
      "6.860093573916964\n",
      "6.846719586212397\n",
      "6.8333723257163586\n",
      "6.82005173891097\n",
      "6.806757772391953\n",
      "6.793490372868\n",
      "6.78024948716016\n",
      "6.767035062201268\n",
      "6.753847045035369\n",
      "6.740685382817175\n",
      "6.727550022811565\n",
      "6.714440912393069\n",
      "6.701357999045392\n",
      "6.68830123036095\n",
      "6.675270554040418\n",
      "6.662265917892306\n",
      "6.649287269832524\n",
      "6.636334557883993\n",
      "6.623407730176241\n",
      "6.610506734945021\n",
      "6.597631520531954\n",
      "6.584782035384152\n",
      "6.571958228053874\n",
      "6.559160047198197\n",
      "6.546387441578659\n",
      "6.533640360060962\n",
      "6.520918751614633\n",
      "6.508222565312729\n",
      "6.495551750331539\n",
      "6.482906255950271\n",
      "6.47028603155077\n",
      "6.457691026617241\n",
      "6.445121190735972\n",
      "6.4325764735950415\n"
     ]
    }
   ],
   "source": [
    "for i in range(100):\n",
    "    outputs = np.dot(inputs,weights) + bias\n",
    "    deltas = outputs - targets\n",
    "    loss = np.sum(deltas **2) / 2 / observations\n",
    "    print(loss)\n",
    "    deltas_scaled = deltas / observations\n",
    "     \n",
    "    weights = weights - learning_rate * np.dot(inputs.T,deltas_scaled) \n",
    "    bias = bias - learning_rate * np.sum(deltas_scaled)"
   ]
  },
  {
   "cell_type": "code",
   "execution_count": 240,
   "metadata": {},
   "outputs": [
    {
     "name": "stdout",
     "output_type": "stream",
     "text": [
      "[[1.98518808]\n",
      " [3.0030484 ]] [1.47463678]\n"
     ]
    }
   ],
   "source": [
    "print(weights,bias)"
   ]
  },
  {
   "cell_type": "code",
   "execution_count": 241,
   "metadata": {},
   "outputs": [
    {
     "data": {
      "image/png": "[encoded data removed]",
      "text/plain": [
       "<Figure size 432x288 with 1 Axes>"
      ]
     },
     "metadata": {
      "needs_background": "light"
     },
     "output_type": "display_data"
    }
   ],
   "source": [
    "plt.plot(outputs,targets)\n",
    "plt.xlabel('outputs')\n",
    "plt.ylabel('targets')\n",
    "plt.show()\n"
   ]
  },
  {
   "cell_type": "code",
   "execution_count": null,
   "metadata": {},
   "outputs": [],
   "source": []
  }
 ],
 "metadata": {
  "kernelspec": {
   "display_name": "Python 3.10.6 64-bit",
   "language": "python",
   "name": "python3"
  },
  "language_info": {
   "codemirror_mode": {
    "name": "ipython",
    "version": 3
   },
   "file_extension": ".py",
   "mimetype": "text/x-python",
   "name": "python",
   "nbconvert_exporter": "python",
   "pygments_lexer": "ipython3",
   "version": "3.10.6"
  },
  "orig_nbformat": 4,
  "vscode": {
   "interpreter": {
    "hash": "369f2c481f4da34e4445cda3fffd2e751bd1c4d706f27375911949ba6bb62e1c"
   }
  }
 },
 "nbformat": 4,
 "nbformat_minor": 2
}
